{
 "cells": [
  {
   "cell_type": "code",
   "execution_count": 2,
   "id": "cdc334f4",
   "metadata": {},
   "outputs": [],
   "source": [
    "#!pip install google-cloud-aiplatform==1.25.0\n",
    "#!pip install OAuth2\n",
    "import pandas as pd\n",
    "from google.oauth2 import service_account\n",
    "from google.cloud.aiplatform import Endpoint"
   ]
  },
  {
   "cell_type": "code",
   "execution_count": 3,
   "id": "979836ab",
   "metadata": {},
   "outputs": [],
   "source": [
    "credentials = service_account.Credentials.from_service_account_file('key.json')"
   ]
  },
  {
   "cell_type": "code",
   "execution_count": 4,
   "id": "608b5e5b",
   "metadata": {},
   "outputs": [],
   "source": [
    "endpoint = Endpoint(\n",
    "    endpoint_name=\"4472668166257901568\",\n",
    "    project=\"hackathon-dse\",\n",
    "    location=\"us-central1\",\n",
    "    credentials=credentials,\n",
    ")"
   ]
  },
  {
   "cell_type": "code",
   "execution_count": 5,
   "id": "8a6f9c5c",
   "metadata": {},
   "outputs": [],
   "source": [
    "wine = pd.read_csv(r\"C:\\Users\\secon\\Desktop\\Hackathon\\winequality-red.csv\")\n",
    "X = wine.iloc[:,0:-1]"
   ]
  },
  {
   "cell_type": "code",
   "execution_count": 6,
   "id": "35a9f7fb",
   "metadata": {},
   "outputs": [
    {
     "name": "stdout",
     "output_type": "stream",
     "text": [
      "fixed acidity            7.4000\n",
      "volatile acidity         0.6600\n",
      "citric acid              0.0000\n",
      "residual sugar           1.8000\n",
      "chlorides                0.0750\n",
      "free sulfur dioxide     13.0000\n",
      "total sulfur dioxide    40.0000\n",
      "density                  0.9978\n",
      "pH                       3.5100\n",
      "sulphates                0.5600\n",
      "alcohol                  9.4000\n",
      "quality                  5.0000\n",
      "Name: 5, dtype: float64 \n",
      "\n",
      "Prediction(predictions=['Bad wine'], deployed_model_id='5837617294141816832', model_version_id='1', model_resource_name='projects/167420273877/locations/us-central1/models/4618909809821876224', explanations=None)\n"
     ]
    }
   ],
   "source": [
    "n = 5\n",
    "predictions = endpoint.predict(instances=[list(X.iloc[n])])\n",
    "print(wine.iloc[n], '\\n')\n",
    "print(predictions)"
   ]
  },
  {
   "cell_type": "code",
   "execution_count": null,
   "id": "aeeda4c4",
   "metadata": {},
   "outputs": [],
   "source": []
  }
 ],
 "metadata": {
  "kernelspec": {
   "display_name": "Python 3 (ipykernel)",
   "language": "python",
   "name": "python3"
  },
  "language_info": {
   "codemirror_mode": {
    "name": "ipython",
    "version": 3
   },
   "file_extension": ".py",
   "mimetype": "text/x-python",
   "name": "python",
   "nbconvert_exporter": "python",
   "pygments_lexer": "ipython3",
   "version": "3.9.12"
  }
 },
 "nbformat": 4,
 "nbformat_minor": 5
}
