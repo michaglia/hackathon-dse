{
 "cells": [
  {
   "cell_type": "code",
   "execution_count": 9,
   "id": "14f6a28b",
   "metadata": {},
   "outputs": [],
   "source": [
    "import pickle\n",
    "import pandas as pd"
   ]
  },
  {
   "cell_type": "code",
   "execution_count": 10,
   "id": "a2cb8901",
   "metadata": {},
   "outputs": [],
   "source": [
    "model = pickle.load(open('model.pkl', 'rb'))"
   ]
  },
  {
   "cell_type": "code",
   "execution_count": 11,
   "id": "ca363965",
   "metadata": {},
   "outputs": [],
   "source": [
    "data_wine = pd.read_csv('C:/Users/Michela/Downloads/archive (1)/winequality-red.csv')\n",
    "X = data_wine.iloc[:,0:-1]"
   ]
  },
  {
   "cell_type": "code",
   "execution_count": 12,
   "id": "bd4e097e",
   "metadata": {},
   "outputs": [
    {
     "name": "stdout",
     "output_type": "stream",
     "text": [
      "Predicted: Bad wine\n",
      "Actual 5\n"
     ]
    }
   ],
   "source": [
    "n = 0\n",
    "print('Predicted:', model.predict(X[n:n+1])[0])\n",
    "print('Actual', data_wine.iloc[n,-1])\n",
    "\n"
   ]
  },
  {
   "cell_type": "markdown",
   "id": "5528051c",
   "metadata": {},
   "source": []
  }
 ],
 "metadata": {
  "kernelspec": {
   "display_name": "Python 3",
   "language": "python",
   "name": "python3"
  },
  "language_info": {
   "codemirror_mode": {
    "name": "ipython",
    "version": 3
   },
   "file_extension": ".py",
   "mimetype": "text/x-python",
   "name": "python",
   "nbconvert_exporter": "python",
   "pygments_lexer": "ipython3",
   "version": "3.8.8"
  }
 },
 "nbformat": 4,
 "nbformat_minor": 5
}
