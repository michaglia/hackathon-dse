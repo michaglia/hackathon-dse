{
 "cells": [
  {
   "cell_type": "code",
   "execution_count": null,
   "id": "726789e0",
   "metadata": {
    "pycharm": {
     "is_executing": true
    }
   },
   "outputs": [],
   "source": [
    "#!pip install FastAPI\n",
    "#!pip install pydantic\n",
    "import pickle\n",
    "import pandas as pd\n",
    "from typing import List\n",
    "from fastapi import FastAPI\n",
    "from fastapi.middleware.cors import CORSMiddleware\n",
    "from pydantic import BaseModel"
   ]
  },
  {
   "cell_type": "code",
   "execution_count": 4,
   "id": "d057afd2",
   "metadata": {},
   "outputs": [],
   "source": [
    "app = FastAPI(\n",
    "    title=\"Wine Quality Classification\",\n",
    "    version=\"0.1.0\",\n",
    ")"
   ]
  },
  {
   "cell_type": "code",
   "execution_count": 5,
   "id": "4fcb7e39",
   "metadata": {},
   "outputs": [],
   "source": [
    "app.add_middleware(\n",
    "    CORSMiddleware,\n",
    "    allow_origins=[\"*\"],\n",
    "    allow_methods=[\"*\"],\n",
    "    allow_headers=[\"*\"],\n",
    "    allow_credentials=True,\n",
    ")"
   ]
  },
  {
   "cell_type": "code",
   "execution_count": 6,
   "id": "6397ccd4",
   "metadata": {},
   "outputs": [],
   "source": [
    "model = pickle.load(\n",
    "    open('model.pkl', 'rb')\n",
    ")"
   ]
  },
  {
   "cell_type": "code",
   "execution_count": 7,
   "id": "1156cd96",
   "metadata": {},
   "outputs": [],
   "source": [
    "@app.get(\"/\")\n",
    "def read_root(text: str = \"\"):\n",
    "    if not text:\n",
    "        return f\"Try to append ?text=something in the URL!\"\n",
    "    else:\n",
    "        return text\n"
   ]
  },
  {
   "cell_type": "code",
   "execution_count": 10,
   "id": "ed43d1bf",
   "metadata": {},
   "outputs": [],
   "source": [
    "class Wine(BaseModel):\n",
    "    fixed_acidity: int\n",
    "    volatile_acidity: int\n",
    "    cytric_acid: int\n",
    "    residual_sugar: int\n",
    "    chlorides: int\n",
    "    free_sulfur_dioxide: int\n",
    "    total_sulfur_dioxide: int\n",
    "    density: int\n",
    "    pH: int\n",
    "    sulphates: int\n",
    "    alcohol: int"
   ]
  },
  {
   "cell_type": "code",
   "execution_count": 11,
   "id": "c1d82234",
   "metadata": {},
   "outputs": [],
   "source": [
    "@app.post(\"/predict/\")\n",
    "def predict(wines: List[Wine]) -> List[str]:\n",
    "    X = pd.DataFrame([dict(wine) for wine in wines])\n",
    "    y_pred = model.predict(X)\n",
    "    return list(y_pred)\n"
   ]
  },
  {
   "cell_type": "code",
   "execution_count": null,
   "id": "d7129b55",
   "metadata": {},
   "outputs": [],
   "source": []
  }
 ],
 "metadata": {
  "kernelspec": {
   "display_name": "Python 3 (ipykernel)",
   "language": "python",
   "name": "python3"
  },
  "language_info": {
   "codemirror_mode": {
    "name": "ipython",
    "version": 3
   },
   "file_extension": ".py",
   "mimetype": "text/x-python",
   "name": "python",
   "nbconvert_exporter": "python",
   "pygments_lexer": "ipython3",
   "version": "3.9.12"
  }
 },
 "nbformat": 4,
 "nbformat_minor": 5
}
